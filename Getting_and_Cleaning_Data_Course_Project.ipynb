{
  "nbformat": 4,
  "nbformat_minor": 0,
  "metadata": {
    "colab": {
      "provenance": [],
      "mount_file_id": "1YtvfRkGVC57FRh9ue7FD3l9tq0JSjtKT",
      "authorship_tag": "ABX9TyMjfOXb1KvQvAK0PlhHWg9Q",
      "include_colab_link": true
    },
    "kernelspec": {
      "name": "python3",
      "display_name": "Python 3"
    },
    "language_info": {
      "name": "python"
    }
  },
  "cells": [
    {
      "cell_type": "markdown",
      "metadata": {
        "id": "view-in-github",
        "colab_type": "text"
      },
      "source": [
        "<a href=\"https://colab.research.google.com/github/techrhea777/Getting-and-Cleaning-Data/blob/main/Getting_and_Cleaning_Data_Course_Project.ipynb\" target=\"_parent\"><img src=\"https://colab.research.google.com/assets/colab-badge.svg\" alt=\"Open In Colab\"/></a>"
      ]
    },
    {
      "cell_type": "code",
      "execution_count": 3,
      "metadata": {
        "id": "oNnQUZa4tdYL"
      },
      "outputs": [],
      "source": [
        "import pandas as pd\n",
        "\n",
        "# Load and read the data\n",
        "features = pd.read_csv('/content/features.txt', delim_whitespace=True, header=None)\n",
        "activities = pd.read_csv('/content/activity_labels.txt', delim_whitespace=True, header=None)\n",
        "\n",
        "# Load training data\n",
        "subject_train = pd.read_csv('/content/subject_train.txt', header=None)\n",
        "X_train = pd.read_csv('/content/X_train.txt', delim_whitespace=True, header=None)\n",
        "y_train = pd.read_csv('/content/y_train.txt', header=None)\n",
        "\n",
        "# Load test data\n",
        "subject_test = pd.read_csv('/content/subject_test.txt', header=None)\n",
        "X_test = pd.read_csv('/content/X_test.txt', delim_whitespace=True, header=None)\n",
        "y_test = pd.read_csv('/content/y_test.txt', header=None)\n",
        "\n"
      ]
    },
    {
      "cell_type": "code",
      "source": [
        "# Merge the training and the test sets to create one data set\n",
        "subject = pd.concat([subject_train, subject_test], axis=0).reset_index(drop=True)\n",
        "X = pd.concat([X_train, X_test], axis=0).reset_index(drop=True)\n",
        "y = pd.concat([y_train, y_test], axis=0).reset_index(drop=True)\n"
      ],
      "metadata": {
        "id": "ed8rUOGDuos7"
      },
      "execution_count": 4,
      "outputs": []
    },
    {
      "cell_type": "code",
      "source": [
        "# Extract only the measurements on the mean and standard deviation for each measurement\n",
        "mean_std_features = features[1].str.contains('mean|std', case=False)\n",
        "X = X.loc[:, mean_std_features]\n"
      ],
      "metadata": {
        "id": "Mfinqo7Zu92K"
      },
      "execution_count": 5,
      "outputs": []
    },
    {
      "cell_type": "code",
      "source": [
        "# Use descriptive activity names to name the activities in the data set\n",
        "y[0] = y[0].map(dict(activities.values))"
      ],
      "metadata": {
        "id": "MRWfuO2XvBEK"
      },
      "execution_count": 6,
      "outputs": []
    },
    {
      "cell_type": "code",
      "source": [
        "# Appropriately label the data set with descriptive variable names\n",
        "X.columns = features[1][mean_std_features].str.replace('[()]', '', regex=True).str.replace('-', '').str.replace(',', '')\n"
      ],
      "metadata": {
        "id": "CSSWCfaZvDVo"
      },
      "execution_count": 7,
      "outputs": []
    },
    {
      "cell_type": "code",
      "source": [
        "# Merge the data\n",
        "final_data = pd.concat([subject, y, X], axis=1)\n",
        "final_data.columns = ['Subject', 'Activity'] + list(X.columns)\n"
      ],
      "metadata": {
        "id": "4EdiFP5HvGEa"
      },
      "execution_count": 8,
      "outputs": []
    },
    {
      "cell_type": "code",
      "source": [
        "# Create a second, independent tidy data set with the average of each variable for each activity and each subject\n",
        "tidy_data = final_data.groupby(['Subject', 'Activity']).mean().reset_index()\n"
      ],
      "metadata": {
        "id": "bivkkb_8vIYM"
      },
      "execution_count": 9,
      "outputs": []
    },
    {
      "cell_type": "code",
      "source": [
        "tidy_data.to_csv('/content/drive/MyDrive/tidydata.csv', index=False)\n"
      ],
      "metadata": {
        "id": "iDP48QH3vPEE"
      },
      "execution_count": 15,
      "outputs": []
    },
    {
      "cell_type": "code",
      "source": [],
      "metadata": {
        "id": "LucVqPMJvo3s"
      },
      "execution_count": null,
      "outputs": []
    }
  ]
}